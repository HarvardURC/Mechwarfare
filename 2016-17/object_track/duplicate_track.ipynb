{
 "cells": [
  {
   "cell_type": "code",
   "execution_count": 1,
   "metadata": {
    "collapsed": true
   },
   "outputs": [],
   "source": [
    "from collections import deque\n",
    "import numpy as np\n",
    "import argparse\n",
    "import imutils\n",
    "import cv2"
   ]
  },
  {
   "cell_type": "code",
   "execution_count": 2,
   "metadata": {
    "collapsed": false
   },
   "outputs": [
    {
     "name": "stderr",
     "output_type": "stream",
     "text": [
      "usage: __main__.py [-h] [-v VIDEO] [-b BUFFER]\n",
      "__main__.py: error: unrecognized arguments: -f /Users/Brandon/Library/Jupyter/runtime/kernel-893d466b-345c-4f91-9306-656a27aa2955.json\n"
     ]
    },
    {
     "ename": "SystemExit",
     "evalue": "2",
     "output_type": "error",
     "traceback": [
      "An exception has occurred, use %tb to see the full traceback.\n",
      "\u001b[0;31mSystemExit\u001b[0m\u001b[0;31m:\u001b[0m 2\n"
     ]
    },
    {
     "name": "stderr",
     "output_type": "stream",
     "text": [
      "/usr/local/lib/python2.7/site-packages/IPython/core/interactiveshell.py:2889: UserWarning: To exit: use 'exit', 'quit', or Ctrl-D.\n",
      "  warn(\"To exit: use 'exit', 'quit', or Ctrl-D.\", stacklevel=1)\n"
     ]
    }
   ],
   "source": [
    "# construct the argument parse and parse the arguments\n",
    "ap = argparse.ArgumentParser()\n",
    "ap.add_argument(\"-v\", \"--video\",\n",
    "    help=\"path to the (optional) video file\")\n",
    "ap.add_argument(\"-b\", \"--buffer\", type=int, default=32,\n",
    "    help=\"max buffer size\")\n",
    "args = vars(ap.parse_args())"
   ]
  },
  {
   "cell_type": "code",
   "execution_count": 3,
   "metadata": {
    "collapsed": true
   },
   "outputs": [],
   "source": [
    "# define the lower and upper boundaries of the \"green\"\n",
    "# ball in the HSV color space\n",
    "\n",
    "# line 63 to change the color scheme\n",
    "greenLower = (29, 86, 6)\n",
    "greenUpper = (64, 255, 255)\n",
    "\n",
    "blueLower = (80, 90, 6)\n",
    "blueUpper = (120, 255, 255)\n",
    "\n",
    "redLower = (0, 150, 120)\n",
    "redUpper = (0, 255, 255)"
   ]
  },
  {
   "cell_type": "code",
   "execution_count": 4,
   "metadata": {
    "collapsed": false
   },
   "outputs": [],
   "source": [
    "# initialize the list of tracked points, the frame counter,\n",
    "# and the coordinate deltas\n",
    "pts = 32 #deque(maxlen=args[\"buffer\"])\n",
    "counter = 0\n",
    "(dX, dY) = (0, 0)\n",
    "direction = \"\"\n",
    "\n",
    "# # if a video path was not supplied, grab the reference\n",
    "# # to the webcam\n",
    "# if not args.get(\"video\", False):\n",
    "#     camera = cv2.VideoCapture(0)\n",
    "    \n",
    "# # otherwise, grab a reference to the video file\n",
    "# else:\n",
    "#     camera = cv2.VideoCapture(args[\"video\"])"
   ]
  },
  {
   "cell_type": "code",
   "execution_count": 8,
   "metadata": {
    "collapsed": false
   },
   "outputs": [
    {
     "ename": "TypeError",
     "evalue": "object of type 'int' has no len()",
     "output_type": "error",
     "traceback": [
      "\u001b[0;31m------------------------------------------------------------------\u001b[0m",
      "\u001b[0;31mTypeError\u001b[0m                        Traceback (most recent call last)",
      "\u001b[0;32m<ipython-input-8-1cd806ccc825>\u001b[0m in \u001b[0;36m<module>\u001b[0;34m()\u001b[0m\n\u001b[1;32m     48\u001b[0m \u001b[0;34m\u001b[0m\u001b[0m\n\u001b[1;32m     49\u001b[0m     \u001b[0;31m# loop over the set of tracked points\u001b[0m\u001b[0;34m\u001b[0m\u001b[0;34m\u001b[0m\u001b[0m\n\u001b[0;32m---> 50\u001b[0;31m     \u001b[0;32mfor\u001b[0m \u001b[0mi\u001b[0m \u001b[0;32min\u001b[0m \u001b[0mnp\u001b[0m\u001b[0;34m.\u001b[0m\u001b[0marange\u001b[0m\u001b[0;34m(\u001b[0m\u001b[0;36m1\u001b[0m\u001b[0;34m,\u001b[0m \u001b[0mlen\u001b[0m\u001b[0;34m(\u001b[0m\u001b[0mpts\u001b[0m\u001b[0;34m)\u001b[0m\u001b[0;34m)\u001b[0m\u001b[0;34m:\u001b[0m\u001b[0;34m\u001b[0m\u001b[0m\n\u001b[0m\u001b[1;32m     51\u001b[0m         \u001b[0;31m# if either of the tracked points are None, ignore\u001b[0m\u001b[0;34m\u001b[0m\u001b[0;34m\u001b[0m\u001b[0m\n\u001b[1;32m     52\u001b[0m         \u001b[0;31m# them\u001b[0m\u001b[0;34m\u001b[0m\u001b[0;34m\u001b[0m\u001b[0m\n",
      "\u001b[0;31mTypeError\u001b[0m: object of type 'int' has no len()"
     ]
    }
   ],
   "source": [
    "camera = cv2.VideoCapture(0)\n",
    "while True:\n",
    "    # grab the current frame\n",
    "    (grabbed, frame) = camera.read()\n",
    " \n",
    "#     # if we are viewing a video and we did not grab a frame,\n",
    "#     # then we have reached the end of the video\n",
    "#     if args.get(\"video\") and not grabbed:\n",
    "#         break\n",
    " \n",
    "    # resize the frame, blur it, and convert it to the HSV\n",
    "    # color space\n",
    "    frame = imutils.resize(frame, width=600)\n",
    "    blurred = cv2.GaussianBlur(frame, (11, 11), 0)\n",
    "    hsv = cv2.cvtColor(frame, cv2.COLOR_BGR2HSV)\n",
    " \n",
    "    # construct a mask for the color given, then perform\n",
    "    # a series of dilations and erosions to remove any small\n",
    "    # blobs left in the mask\n",
    "    mask = cv2.inRange(hsv, blueLower, blueUpper)\n",
    "    mask = cv2.erode(mask, None, iterations=2)\n",
    "    mask = cv2.dilate(mask, None, iterations=2)\n",
    " \n",
    "    # find contours in the mask and initialize the current\n",
    "    # (x, y) center of the ball\n",
    "    cnts = cv2.findContours(mask.copy(), cv2.RETR_EXTERNAL,\n",
    "        cv2.CHAIN_APPROX_SIMPLE)[-2]\n",
    "    center = None\n",
    "\n",
    "    # only proceed if at least one contour was found\n",
    "    if len(cnts) > 0:\n",
    "        # find the largest contour in the mask, then use\n",
    "        # it to compute the minimum enclosing circle and\n",
    "        # centroid\n",
    "        c = max(cnts, key=cv2.contourArea)\n",
    "        ((x, y), radius) = cv2.minEnclosingCircle(c)\n",
    "        M = cv2.moments(c)\n",
    "        center = (int(M[\"m10\"] / M[\"m00\"]), int(M[\"m01\"] / M[\"m00\"]))\n",
    " \n",
    "        # only proceed if the radius meets a minimum size\n",
    "        if radius > 10:\n",
    "            # draw the circle and centroid on the frame,\n",
    "            # then update the list of tracked points\n",
    "            cv2.circle(frame, (int(x), int(y)), int(radius),\n",
    "                (0, 255, 255), 2)\n",
    "            cv2.circle(frame, center, 5, (0, 0, 255), -1)\n",
    "            pts.appendleft(center)\n",
    "\n",
    "    # loop over the set of tracked points\n",
    "    for i in np.arange(1, len(pts)):\n",
    "        # if either of the tracked points are None, ignore\n",
    "        # them\n",
    "        if pts[i - 1] is None or pts[i] is None:\n",
    "            continue\n",
    " \n",
    "        # check to see if enough points have been accumulated in\n",
    "        # the buffer\n",
    "        if counter >= 10 and i == 1 and pts[-10] is not None:\n",
    "            # compute the difference between the x and y\n",
    "            # coordinates and re-initialize the direction\n",
    "            # text variables\n",
    "            dX = pts[-10][0] - pts[i][0]\n",
    "            dY = pts[-10][1] - pts[i][1]\n",
    "            (dirX, dirY) = (\"\", \"\")\n",
    " \n",
    "            # ensure there is significant movement in the\n",
    "            # x-direction\n",
    "            if np.abs(dX) > 20:\n",
    "                dirX = \"East\" if np.sign(dX) == 1 else \"West\"\n",
    " \n",
    "            # ensure there is significant movement in the\n",
    "            # y-direction\n",
    "            if np.abs(dY) > 20:\n",
    "                dirY = \"North\" if np.sign(dY) == 1 else \"South\"\n",
    " \n",
    "            # handle when both directions are non-empty\n",
    "            if dirX != \"\" and dirY != \"\":\n",
    "                direction = \"{}-{}\".format(dirY, dirX)\n",
    " \n",
    "            # otherwise, only one direction is non-empty\n",
    "            else:\n",
    "                direction = dirX if dirX != \"\" else dirY\n",
    "\n",
    "\n",
    "        # otherwise, compute the thickness of the line and\n",
    "        # draw the connecting lines\n",
    "        thickness = int(np.sqrt(args[\"buffer\"] / float(i + 1)) * 2.5)\n",
    "        cv2.line(frame, pts[i - 1], pts[i], (0, 0, 255), thickness)\n",
    " \n",
    "    # show the movement deltas and the direction of movement on\n",
    "    # the frame\n",
    "    cv2.putText(frame, direction, (10, 30), cv2.FONT_HERSHEY_SIMPLEX,\n",
    "        0.65, (0, 0, 255), 3)\n",
    "    cv2.putText(frame, \"dx: {}, dy: {}\".format(dX, dY),\n",
    "        (10, frame.shape[0] - 10), cv2.FONT_HERSHEY_SIMPLEX,\n",
    "        0.35, (0, 0, 255), 1)\n",
    " \n",
    "    # show the frame to our screen and increment the frame counter\n",
    "    cv2.imshow(\"Frame\", frame)\n",
    "    key = cv2.waitKey(1) & 0xFF\n",
    "    counter += 1\n",
    " \n",
    "    # if the 'q' key is pressed, stop the loop\n",
    "    if key == ord(\"q\"):\n",
    "        break\n",
    " \n",
    "# cleanup the camera and close any open windows\n",
    "camera.release()\n",
    "cv2.destroyAllWindows()\n"
   ]
  },
  {
   "cell_type": "code",
   "execution_count": null,
   "metadata": {
    "collapsed": true
   },
   "outputs": [],
   "source": []
  }
 ],
 "metadata": {
  "kernelspec": {
   "display_name": "Python 2",
   "language": "python",
   "name": "python2"
  },
  "language_info": {
   "codemirror_mode": {
    "name": "ipython",
    "version": 2
   },
   "file_extension": ".py",
   "mimetype": "text/x-python",
   "name": "python",
   "nbconvert_exporter": "python",
   "pygments_lexer": "ipython2",
   "version": "2.7.13"
  }
 },
 "nbformat": 4,
 "nbformat_minor": 2
}
